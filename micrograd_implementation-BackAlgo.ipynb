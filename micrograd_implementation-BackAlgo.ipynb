{
 "cells": [
  {
   "cell_type": "code",
   "execution_count": 1,
   "metadata": {},
   "outputs": [],
   "source": [
    "import numpy as np\n",
    "import matplotlib.pyplot as plt\n",
    "import math\n",
    "%matplotlib inline\n",
    "import latexify\n",
    "from graphviz import Digraph"
   ]
  },
  {
   "cell_type": "code",
   "execution_count": 2,
   "metadata": {},
   "outputs": [
    {
     "data": {
      "text/latex": [
       "$$ \\displaystyle \\mathrm{f}(x)\\triangleq 3x^{2} - 4x + 5 $$"
      ],
      "text/plain": [
       "<latexify.core.with_latex.<locals>._LatexifiedFunction at 0x7f7005bf6a10>"
      ]
     },
     "execution_count": 2,
     "metadata": {},
     "output_type": "execute_result"
    }
   ],
   "source": [
    "@latexify.with_latex\n",
    "def f(x):\n",
    "    return 3*x**2 -4*x +5\n",
    "f"
   ]
  },
  {
   "cell_type": "code",
   "execution_count": 3,
   "metadata": {},
   "outputs": [
    {
     "data": {
      "text/plain": [
       "9.0"
      ]
     },
     "execution_count": 3,
     "metadata": {},
     "output_type": "execute_result"
    }
   ],
   "source": [
    "#@latexify.with_latex\n",
    "f(2.0)"
   ]
  },
  {
   "cell_type": "code",
   "execution_count": 4,
   "metadata": {},
   "outputs": [
    {
     "data": {
      "text/plain": [
       "[<matplotlib.lines.Line2D at 0x7f7004684990>]"
      ]
     },
     "execution_count": 4,
     "metadata": {},
     "output_type": "execute_result"
    },
    {
     "data": {
      "image/png": "[encoded data removed]",
      "text/plain": [
       "<Figure size 640x480 with 1 Axes>"
      ]
     },
     "metadata": {},
     "output_type": "display_data"
    }
   ],
   "source": [
    "xp=np.arange(-4,5,0.5)\n",
    "yp=f(xp)\n",
    "plt.plot(xp,yp)"
   ]
  },
  {
   "cell_type": "code",
   "execution_count": 5,
   "metadata": {},
   "outputs": [
    {
     "name": "stdout",
     "output_type": "stream",
     "text": [
      "2.002999999999311\n",
      "-16\n"
     ]
    }
   ],
   "source": [
    "#let have some intution about the expression derivative\n",
    "#inputs \n",
    "h=0.001\n",
    "a=1\n",
    "b=-6\n",
    "c=10\n",
    "d=a*b-c\n",
    "print((f(a+h)-f(a))/h)\n",
    "print(d)\n"
   ]
  },
  {
   "cell_type": "code",
   "execution_count": 6,
   "metadata": {},
   "outputs": [
    {
     "name": "stdout",
     "output_type": "stream",
     "text": [
      "d1 -16\n",
      "d2 -16.000999999999998\n",
      "slop 0.9999999999976694\n"
     ]
    }
   ],
   "source": [
    "h=0.001\n",
    "d1=a*b-c\n",
    "c+=h\n",
    "d2=a*b-c\n",
    "print(\"d1\",d1)\n",
    "print(\"d2\",d2)\n",
    "print(\"slop\",(d1-d2)/h)"
   ]
  },
  {
   "cell_type": "markdown",
   "metadata": {},
   "source": [
    "### section 2 build the data struct to handle input of values function \n",
    "1. here we will create a class object Value that repesent the data structure of some operations \n",
    "2. after we will need to create a graph to show to trace the tyep OP and data's value \n",
    "\n",
    "* that will help us to understand Backware-forwared algorithm "
   ]
  },
  {
   "cell_type": "code",
   "execution_count": 7,
   "metadata": {},
   "outputs": [
    {
     "data": {
      "text/plain": [
       "{value(data=1.68), value(data=2.0)}"
      ]
     },
     "execution_count": 7,
     "metadata": {},
     "output_type": "execute_result"
    }
   ],
   "source": [
    "class Value:\n",
    "    def __init__(self,data,_child={},_op='',label='',grad=0.0):\n",
    "        self.data=data\n",
    "        self._prev=set(_child)\n",
    "        self._op=_op\n",
    "        self._backward= lambda :None \n",
    "        self.grad=0.0\n",
    "        self.label=label\n",
    "        \n",
    "    def __repr__(self):\n",
    "        return f\"value(data={self.data})\"\n",
    "    \n",
    "    def __add__(self,other):\n",
    "        out=Value(self.data+other.data,(self,other),'+')\n",
    "        def _backward(): \n",
    "            self.grad += 1.0 * out.grad\n",
    "            other.data += 1.0 * out.grad\n",
    "        out._backward = _backward\n",
    "        return out\n",
    "            \n",
    "            \n",
    "    \n",
    "    def __mul__(self,other):\n",
    "        out=Value(self.data * other.data,(self,other),'*')\n",
    "        def _backward():\n",
    "            self.grad += other.grad * out.grad\n",
    "            other.grad += self.grad * out.grad\n",
    "        out._backward = _backward\n",
    "        return out\n",
    "    \n",
    "        \n",
    "    \n",
    "    def tanh(self):\n",
    "        x=self.data\n",
    "        t=(math.exp(2*x)-1)/(math.exp(2*x)+1)\n",
    "        out=Value(t,{self,},'tanh')\n",
    "        def _backward():\n",
    "            self.grad = (1 - t**2) * out.grad\n",
    "        out._backward = _backward\n",
    "        return out \n",
    "    \n",
    "    def backward(self):\n",
    "    \n",
    "        topo = []\n",
    "        visited = set()\n",
    "        def build_topo(v):\n",
    "            if v not in visited:\n",
    "                visited.add(v)\n",
    "            for child in v._prev:\n",
    "                build_topo(child)\n",
    "                topo.append(v)\n",
    "        build_topo(self)\n",
    "\n",
    "        self.grad = 1.0\n",
    "        for node in reversed(topo):\n",
    "            node._backward()\n",
    "    \n",
    "a=Value(2.3,label='a')\n",
    "b=Value(0.3,label='b')\n",
    "c =Value(0.6,label='c')\n",
    "e=a*c;e.label='e'\n",
    "d=e+b;d.label='d'\n",
    "f=Value(2.0,label='f')\n",
    "L=d*f;L.label='output'\n",
    "\n",
    "L._prev\n"
   ]
  },
  {
   "cell_type": "code",
   "execution_count": 8,
   "metadata": {},
   "outputs": [
    {
     "data": {
      "text/plain": [
       "'+'"
      ]
     },
     "execution_count": 8,
     "metadata": {},
     "output_type": "execute_result"
    }
   ],
   "source": [
    "#d._prev\n",
    "d._op"
   ]
  },
  {
   "cell_type": "code",
   "execution_count": 9,
   "metadata": {},
   "outputs": [],
   "source": [
    "#let us first build the graph (nodes and edges) to store them \n",
    "# in pathaway \n",
    "def trace(root):\n",
    "    nodes , edges= set(),set()\n",
    "    def build(v):\n",
    "        if v not in nodes:\n",
    "            nodes.add(v)\n",
    "            for chlid in v._prev:\n",
    "                edges.add((chlid,v))\n",
    "                build(chlid)\n",
    "    build(root)\n",
    "    return nodes,edges\n",
    "\n",
    "def draw_dot(root):\n",
    "    dot=Digraph(format=\"svg\",graph_attr={'rankdir':\"RL\"})\n",
    "    \n",
    "    nodes,edges=trace(root)\n",
    "    for n in nodes:\n",
    "        # for any value in the graph, create a rectangular ('record') node for it\n",
    "        uid=str(id(n))\n",
    "        dot.node(name=uid,label=\"%s | data %.4f | grad %.4f\"  % (n.label,n.data,n.grad),shape=\"record\")\n",
    "        if n._op:\n",
    "            dot.node(name=uid + n._op,label=n._op)\n",
    "            dot.edge(uid+n._op,uid)\n",
    "    for n1 , n2 in edges:\n",
    "        dot.edge(str(id(n1)),str(id(n2))+n2._op)\n",
    "                 \n",
    "    return dot        \n",
    "                 \n",
    "    \n",
    "           "
   ]
  },
  {
   "cell_type": "code",
   "execution_count": 10,
   "metadata": {},
   "outputs": [
    {
     "data": {
      "image/svg+xml": [
       "<?xml version=\"1.0\" encoding=\"UTF-8\" standalone=\"no\"?>\n",
       "<!DOCTYPE svg PUBLIC \"-//W3C//DTD SVG 1.1//EN\"\n",
       " \"http://www.w3.org/Graphics/SVG/1.1/DTD/svg11.dtd\">\n",
       "<!-- Generated by graphviz version 6.0.1 (0)\n",
       " -->\n",
       "<!-- Pages: 1 -->\n",
       "<svg width=\"714pt\" height=\"210pt\"\n",
       " viewBox=\"0.00 0.00 714.00 210.00\" xmlns=\"http://www.w3.org/2000/svg\" xmlns:xlink=\"http://www.w3.org/1999/xlink\">\n",
       "<g id=\"graph0\" class=\"graph\" transform=\"scale(1 1) rotate(0) translate(4 206)\">\n",
       "<polygon fill=\"white\" stroke=\"none\" points=\"-4,4 -4,-206 710,-206 710,4 -4,4\"/>\n",
       "<!-- 140119083788304 -->\n",
       "<g id=\"node1\" class=\"node\">\n",
       "<title>140119083788304</title>\n",
       "<polygon fill=\"none\" stroke=\"black\" points=\"208,-44.5 208,-113.5 290,-113.5 290,-44.5 208,-44.5\"/>\n",
       "<text text-anchor=\"middle\" x=\"249\" y=\"-98.3\" font-family=\"Times,serif\" font-size=\"14.00\">d</text>\n",
       "<polyline fill=\"none\" stroke=\"black\" points=\"208,-90.5 290,-90.5\"/>\n",
       "<text text-anchor=\"middle\" x=\"249\" y=\"-75.3\" font-family=\"Times,serif\" font-size=\"14.00\">data 1.6800</text>\n",
       "<polyline fill=\"none\" stroke=\"black\" points=\"208,-67.5 290,-67.5\"/>\n",
       "<text text-anchor=\"middle\" x=\"249\" y=\"-52.3\" font-family=\"Times,serif\" font-size=\"14.00\">grad 0.0000</text>\n",
       "</g>\n",
       "<!-- 140119083788560* -->\n",
       "<g id=\"node8\" class=\"node\">\n",
       "<title>140119083788560*</title>\n",
       "<ellipse fill=\"none\" stroke=\"black\" cx=\"145\" cy=\"-123\" rx=\"27\" ry=\"18\"/>\n",
       "<text text-anchor=\"middle\" x=\"145\" y=\"-119.3\" font-family=\"Times,serif\" font-size=\"14.00\">*</text>\n",
       "</g>\n",
       "<!-- 140119083788304&#45;&gt;140119083788560* -->\n",
       "<g id=\"edge6\" class=\"edge\">\n",
       "<title>140119083788304&#45;&gt;140119083788560*</title>\n",
       "<path fill=\"none\" stroke=\"black\" d=\"M207.98,-96.26C197.77,-100.67 186.94,-105.34 177.23,-109.53\"/>\n",
       "<polygon fill=\"black\" stroke=\"black\" points=\"175.77,-106.35 167.97,-113.52 178.54,-112.77 175.77,-106.35\"/>\n",
       "</g>\n",
       "<!-- 140119083788304+ -->\n",
       "<g id=\"node2\" class=\"node\">\n",
       "<title>140119083788304+</title>\n",
       "<ellipse fill=\"none\" stroke=\"black\" cx=\"353\" cy=\"-79\" rx=\"27\" ry=\"18\"/>\n",
       "<text text-anchor=\"middle\" x=\"353\" y=\"-75.3\" font-family=\"Times,serif\" font-size=\"14.00\">+</text>\n",
       "</g>\n",
       "<!-- 140119083788304+&#45;&gt;140119083788304 -->\n",
       "<g id=\"edge1\" class=\"edge\">\n",
       "<title>140119083788304+&#45;&gt;140119083788304</title>\n",
       "<path fill=\"none\" stroke=\"black\" d=\"M326,-79C318.19,-79 309.35,-79 300.52,-79\"/>\n",
       "<polygon fill=\"black\" stroke=\"black\" points=\"300.24,-75.5 290.24,-79 300.24,-82.5 300.24,-75.5\"/>\n",
       "</g>\n",
       "<!-- 140119083787344 -->\n",
       "<g id=\"node3\" class=\"node\">\n",
       "<title>140119083787344</title>\n",
       "<polygon fill=\"none\" stroke=\"black\" points=\"416,-88.5 416,-157.5 498,-157.5 498,-88.5 416,-88.5\"/>\n",
       "<text text-anchor=\"middle\" x=\"457\" y=\"-142.3\" font-family=\"Times,serif\" font-size=\"14.00\">e</text>\n",
       "<polyline fill=\"none\" stroke=\"black\" points=\"416,-134.5 498,-134.5\"/>\n",
       "<text text-anchor=\"middle\" x=\"457\" y=\"-119.3\" font-family=\"Times,serif\" font-size=\"14.00\">data 1.3800</text>\n",
       "<polyline fill=\"none\" stroke=\"black\" points=\"416,-111.5 498,-111.5\"/>\n",
       "<text text-anchor=\"middle\" x=\"457\" y=\"-96.3\" font-family=\"Times,serif\" font-size=\"14.00\">grad 0.0000</text>\n",
       "</g>\n",
       "<!-- 140119083787344&#45;&gt;140119083788304+ -->\n",
       "<g id=\"edge9\" class=\"edge\">\n",
       "<title>140119083787344&#45;&gt;140119083788304+</title>\n",
       "<path fill=\"none\" stroke=\"black\" d=\"M415.98,-105.74C405.77,-101.33 394.94,-96.66 385.23,-92.47\"/>\n",
       "<polygon fill=\"black\" stroke=\"black\" points=\"386.54,-89.23 375.97,-88.48 383.77,-95.65 386.54,-89.23\"/>\n",
       "</g>\n",
       "<!-- 140119083787344* -->\n",
       "<g id=\"node4\" class=\"node\">\n",
       "<title>140119083787344*</title>\n",
       "<ellipse fill=\"none\" stroke=\"black\" cx=\"561\" cy=\"-123\" rx=\"27\" ry=\"18\"/>\n",
       "<text text-anchor=\"middle\" x=\"561\" y=\"-119.3\" font-family=\"Times,serif\" font-size=\"14.00\">*</text>\n",
       "</g>\n",
       "<!-- 140119083787344*&#45;&gt;140119083787344 -->\n",
       "<g id=\"edge2\" class=\"edge\">\n",
       "<title>140119083787344*&#45;&gt;140119083787344</title>\n",
       "<path fill=\"none\" stroke=\"black\" d=\"M534,-123C526.19,-123 517.35,-123 508.52,-123\"/>\n",
       "<polygon fill=\"black\" stroke=\"black\" points=\"508.24,-119.5 498.24,-123 508.24,-126.5 508.24,-119.5\"/>\n",
       "</g>\n",
       "<!-- 140119083788368 -->\n",
       "<g id=\"node5\" class=\"node\">\n",
       "<title>140119083788368</title>\n",
       "<polygon fill=\"none\" stroke=\"black\" points=\"208,-132.5 208,-201.5 290,-201.5 290,-132.5 208,-132.5\"/>\n",
       "<text text-anchor=\"middle\" x=\"249\" y=\"-186.3\" font-family=\"Times,serif\" font-size=\"14.00\">f</text>\n",
       "<polyline fill=\"none\" stroke=\"black\" points=\"208,-178.5 290,-178.5\"/>\n",
       "<text text-anchor=\"middle\" x=\"249\" y=\"-163.3\" font-family=\"Times,serif\" font-size=\"14.00\">data 2.0000</text>\n",
       "<polyline fill=\"none\" stroke=\"black\" points=\"208,-155.5 290,-155.5\"/>\n",
       "<text text-anchor=\"middle\" x=\"249\" y=\"-140.3\" font-family=\"Times,serif\" font-size=\"14.00\">grad 0.0000</text>\n",
       "</g>\n",
       "<!-- 140119083788368&#45;&gt;140119083788560* -->\n",
       "<g id=\"edge5\" class=\"edge\">\n",
       "<title>140119083788368&#45;&gt;140119083788560*</title>\n",
       "<path fill=\"none\" stroke=\"black\" d=\"M207.98,-149.74C197.77,-145.33 186.94,-140.66 177.23,-136.47\"/>\n",
       "<polygon fill=\"black\" stroke=\"black\" points=\"178.54,-133.23 167.97,-132.48 175.77,-139.65 178.54,-133.23\"/>\n",
       "</g>\n",
       "<!-- 140119083787920 -->\n",
       "<g id=\"node6\" class=\"node\">\n",
       "<title>140119083787920</title>\n",
       "<polygon fill=\"none\" stroke=\"black\" points=\"624,-132.5 624,-201.5 706,-201.5 706,-132.5 624,-132.5\"/>\n",
       "<text text-anchor=\"middle\" x=\"665\" y=\"-186.3\" font-family=\"Times,serif\" font-size=\"14.00\">c</text>\n",
       "<polyline fill=\"none\" stroke=\"black\" points=\"624,-178.5 706,-178.5\"/>\n",
       "<text text-anchor=\"middle\" x=\"665\" y=\"-163.3\" font-family=\"Times,serif\" font-size=\"14.00\">data 0.6000</text>\n",
       "<polyline fill=\"none\" stroke=\"black\" points=\"624,-155.5 706,-155.5\"/>\n",
       "<text text-anchor=\"middle\" x=\"665\" y=\"-140.3\" font-family=\"Times,serif\" font-size=\"14.00\">grad 0.0000</text>\n",
       "</g>\n",
       "<!-- 140119083787920&#45;&gt;140119083787344* -->\n",
       "<g id=\"edge7\" class=\"edge\">\n",
       "<title>140119083787920&#45;&gt;140119083787344*</title>\n",
       "<path fill=\"none\" stroke=\"black\" d=\"M623.98,-149.74C613.77,-145.33 602.94,-140.66 593.23,-136.47\"/>\n",
       "<polygon fill=\"black\" stroke=\"black\" points=\"594.54,-133.23 583.97,-132.48 591.77,-139.65 594.54,-133.23\"/>\n",
       "</g>\n",
       "<!-- 140119083788560 -->\n",
       "<g id=\"node7\" class=\"node\">\n",
       "<title>140119083788560</title>\n",
       "<polygon fill=\"none\" stroke=\"black\" points=\"0,-88.5 0,-157.5 82,-157.5 82,-88.5 0,-88.5\"/>\n",
       "<text text-anchor=\"middle\" x=\"41\" y=\"-142.3\" font-family=\"Times,serif\" font-size=\"14.00\">output</text>\n",
       "<polyline fill=\"none\" stroke=\"black\" points=\"0,-134.5 82,-134.5\"/>\n",
       "<text text-anchor=\"middle\" x=\"41\" y=\"-119.3\" font-family=\"Times,serif\" font-size=\"14.00\">data 3.3600</text>\n",
       "<polyline fill=\"none\" stroke=\"black\" points=\"0,-111.5 82,-111.5\"/>\n",
       "<text text-anchor=\"middle\" x=\"41\" y=\"-96.3\" font-family=\"Times,serif\" font-size=\"14.00\">grad 0.0000</text>\n",
       "</g>\n",
       "<!-- 140119083788560*&#45;&gt;140119083788560 -->\n",
       "<g id=\"edge3\" class=\"edge\">\n",
       "<title>140119083788560*&#45;&gt;140119083788560</title>\n",
       "<path fill=\"none\" stroke=\"black\" d=\"M118,-123C110.19,-123 101.35,-123 92.52,-123\"/>\n",
       "<polygon fill=\"black\" stroke=\"black\" points=\"92.24,-119.5 82.24,-123 92.24,-126.5 92.24,-119.5\"/>\n",
       "</g>\n",
       "<!-- 140119083787152 -->\n",
       "<g id=\"node9\" class=\"node\">\n",
       "<title>140119083787152</title>\n",
       "<polygon fill=\"none\" stroke=\"black\" points=\"624,-44.5 624,-113.5 706,-113.5 706,-44.5 624,-44.5\"/>\n",
       "<text text-anchor=\"middle\" x=\"665\" y=\"-98.3\" font-family=\"Times,serif\" font-size=\"14.00\">a</text>\n",
       "<polyline fill=\"none\" stroke=\"black\" points=\"624,-90.5 706,-90.5\"/>\n",
       "<text text-anchor=\"middle\" x=\"665\" y=\"-75.3\" font-family=\"Times,serif\" font-size=\"14.00\">data 2.3000</text>\n",
       "<polyline fill=\"none\" stroke=\"black\" points=\"624,-67.5 706,-67.5\"/>\n",
       "<text text-anchor=\"middle\" x=\"665\" y=\"-52.3\" font-family=\"Times,serif\" font-size=\"14.00\">grad 0.0000</text>\n",
       "</g>\n",
       "<!-- 140119083787152&#45;&gt;140119083787344* -->\n",
       "<g id=\"edge4\" class=\"edge\">\n",
       "<title>140119083787152&#45;&gt;140119083787344*</title>\n",
       "<path fill=\"none\" stroke=\"black\" d=\"M623.98,-96.26C613.77,-100.67 602.94,-105.34 593.23,-109.53\"/>\n",
       "<polygon fill=\"black\" stroke=\"black\" points=\"591.77,-106.35 583.97,-113.52 594.54,-112.77 591.77,-106.35\"/>\n",
       "</g>\n",
       "<!-- 140119083787216 -->\n",
       "<g id=\"node10\" class=\"node\">\n",
       "<title>140119083787216</title>\n",
       "<polygon fill=\"none\" stroke=\"black\" points=\"416,-0.5 416,-69.5 498,-69.5 498,-0.5 416,-0.5\"/>\n",
       "<text text-anchor=\"middle\" x=\"457\" y=\"-54.3\" font-family=\"Times,serif\" font-size=\"14.00\">b</text>\n",
       "<polyline fill=\"none\" stroke=\"black\" points=\"416,-46.5 498,-46.5\"/>\n",
       "<text text-anchor=\"middle\" x=\"457\" y=\"-31.3\" font-family=\"Times,serif\" font-size=\"14.00\">data 0.3000</text>\n",
       "<polyline fill=\"none\" stroke=\"black\" points=\"416,-23.5 498,-23.5\"/>\n",
       "<text text-anchor=\"middle\" x=\"457\" y=\"-8.3\" font-family=\"Times,serif\" font-size=\"14.00\">grad 0.0000</text>\n",
       "</g>\n",
       "<!-- 140119083787216&#45;&gt;140119083788304+ -->\n",
       "<g id=\"edge8\" class=\"edge\">\n",
       "<title>140119083787216&#45;&gt;140119083788304+</title>\n",
       "<path fill=\"none\" stroke=\"black\" d=\"M415.98,-52.26C405.77,-56.67 394.94,-61.34 385.23,-65.53\"/>\n",
       "<polygon fill=\"black\" stroke=\"black\" points=\"383.77,-62.35 375.97,-69.52 386.54,-68.77 383.77,-62.35\"/>\n",
       "</g>\n",
       "</g>\n",
       "</svg>\n"
      ],
      "text/plain": [
       "<graphviz.graphs.Digraph at 0x7f7004bd7f50>"
      ]
     },
     "execution_count": 10,
     "metadata": {},
     "output_type": "execute_result"
    }
   ],
   "source": [
    "import os\n",
    "os.environ[\"PATH\"] += os.pathsep + '/home/yunus/mirco/algo/lib/python3.7/site-packages/graphviz'\n",
    "draw_dot(L)"
   ]
  },
  {
   "cell_type": "markdown",
   "metadata": {},
   "source": [
    "* To insert a mathematical formula of Derivative function ay point to calculte the Grad of rate change\n",
    " as follows:\n",
    "\n",
    "Derivative function:\n",
    "\n",
    "$$ f'(x) = \\lim\\limits_{h \\rightarrow 0} \\frac{f(x+h) - f(x)}{h}   $$\n",
    "\n"
   ]
  },
  {
   "cell_type": "code",
   "execution_count": 11,
   "metadata": {},
   "outputs": [],
   "source": [
    "f.grad=1.6\n",
    "d.grad=2\n",
    "e.grad=2\n",
    "b.grad=2\n",
    "L.grad= 1.0"
   ]
  },
  {
   "cell_type": "markdown",
   "metadata": {},
   "source": [
    "##### Chaine rule \n",
    "the chain rule is a formula that expresses the derivative of the composition of two differentiable functions f and g in terms of the derivatives of f and g. More precisely, if\n",
    "\n",
    "$$ h = f ∘ g {\\displaystyle h=f\\circ g} {\\displaystyle h=f\\circ g} $$\n",
    "is the function such that \n",
    "\n",
    "$$$$$$ h ( x ) =  ( g ( x ) ) {\\displaystyle h(x)=f(g(x))} {\\displaystyle h(x)=f(g(x))} $$$$$$\n",
    "\n",
    "for every x, then the chain rule is, in Lagrange's notation, \n",
    "\n",
    "The chain rule may also be expressed in Leibniz's notation. If a variable z depends on the variable y, which itself depends on the variable x (that is, y and z are dependent variables), then z depends on x as well, via the intermediate variable y. In this case, the chain rule is expressed as\n",
    "\n",
    "  $$ {\\displaystyle {\\frac {dz}{dx}}={\\frac {dz}{dy}}\\cdot {\\frac {dy}{dx}},} {\\displaystyle {\\frac {dz}{dx}}={\\frac {dz}{dy}}\\cdot {\\frac {dy}{dx}},} $$\n",
    "\n",
    "and\n",
    "\n",
    "  $$ {\\displaystyle \\left.{\\frac {dz}{dx}}\\right|_{x}=\\left.{\\frac {dz}{dy}}\\right|_{y(x)}\\cdot \\left.{\\frac {dy}{dx}}\\right|_{x},} {\\displaystyle \\left.{\\frac {dz}{dx}}\\right|_{x}=\\left.{\\frac {dz}{dy}}\\right|_{y(x)}\\cdot \\left.{\\frac {dy}{dx}}\\right|_{x},} $$"
   ]
  },
  {
   "cell_type": "code",
   "execution_count": 12,
   "metadata": {},
   "outputs": [
    {
     "name": "stdout",
     "output_type": "stream",
     "text": [
      "2.0000000000000018\n"
     ]
    }
   ],
   "source": [
    "def chaine_role():\n",
    "    h=0.01\n",
    "    a=Value(2.3,label='a')\n",
    "    b=Value(0.3,label='b')\n",
    "    c =Value(0.6,label='c')\n",
    "    e=a*c;e.label='e'\n",
    "    d=e+b;d.label='d'\n",
    "    f=Value(2.0,label='f')\n",
    "    L=d*f;L.label='output'\n",
    "    L1=L.data\n",
    "    \n",
    "    a=Value(2.3,label='a')\n",
    "    b=Value(0.3,label='b')\n",
    "    b.data+=h\n",
    "    c =Value(0.6,label='c')\n",
    "    e=a*c;e.label='e'\n",
    "    #e.data+=h\n",
    "    d=e+b;d.label='d'\n",
    "    f=Value(2.0,label='f')\n",
    "    L=d*f;L.label='output'\n",
    "    L2=L.data\n",
    "    print((L2-L1)/h)\n",
    "chaine_role()   "
   ]
  },
  {
   "cell_type": "markdown",
   "metadata": {},
   "source": [
    "#### Section nuilding basic Neural network function \n",
    "1. NN is just simple formula functio that combine between Weights and bias repesectively to input data \n",
    "2. NN is complec biology stucture but we have simplify function body \n",
    "![neural_network](<img src=\"neural_networks-009.png \" width=\"500\" height=\"500\">)\n",
    "$$ F(x) = \\alpha (\\sum_{i}^{j}(w_{i}x^{(0)}_{i}+b_{j}^{(0)})$$"
   ]
  },
  {
   "cell_type": "markdown",
   "metadata": {},
   "source": [
    "##### the activation function that  map the output of funcition to probability distobutions Tanh \n",
    "* and there's some few function actication can be used based on the case \n",
    "$$ Tanh(x)= \\frac{e^{2x} -1}{ e^{2x} -1 } $$\n"
   ]
  },
  {
   "cell_type": "code",
   "execution_count": 13,
   "metadata": {},
   "outputs": [
    {
     "data": {
      "image/png": "[encoded data removed]",
      "text/plain": [
       "<Figure size 640x480 with 1 Axes>"
      ]
     },
     "metadata": {},
     "output_type": "display_data"
    }
   ],
   "source": [
    "plt.plot(np.arange(-5,5,0.2), np.tanh(np.arange(-5,5,0.2))); plt.grid();"
   ]
  },
  {
   "cell_type": "code",
   "execution_count": 14,
   "metadata": {},
   "outputs": [],
   "source": [
    "# inputs x1,x2\n",
    "x1 = Value(2.0, label='x1')\n",
    "x2 = Value(0.0, label='x2')\n",
    "# weights w1,w2\n",
    "w1 = Value(-3.0, label='w1')\n",
    "w2 = Value(1.0, label='w2')\n",
    "# bias of the neuron\n",
    "b = Value(6.8813735870195432, label='b')\n",
    "# x1*w1 + x2*w2 + b\n",
    "x1w1 = x1*w1; x1w1.label = 'x1*w1'\n",
    "x2w2 = x2*w2; x2w2.label = 'x2*w2'\n",
    "x1w1x2w2 = x1w1 + x2w2; x1w1x2w2.label = 'x1*w1 + x2*w2'\n",
    "n = x1w1x2w2 + b; n.label = 'n'\n",
    "o = n.tanh(); o.label = 'o'"
   ]
  },
  {
   "cell_type": "code",
   "execution_count": 15,
   "metadata": {},
   "outputs": [],
   "source": [
    "o.grad = 1.0"
   ]
  },
  {
   "cell_type": "code",
   "execution_count": 16,
   "metadata": {},
   "outputs": [],
   "source": [
    "o._backward()"
   ]
  },
  {
   "cell_type": "code",
   "execution_count": 17,
   "metadata": {},
   "outputs": [],
   "source": [
    "#n._backward()"
   ]
  },
  {
   "cell_type": "code",
   "execution_count": 18,
   "metadata": {},
   "outputs": [],
   "source": [
    "#b._backward()"
   ]
  },
  {
   "cell_type": "code",
   "execution_count": 19,
   "metadata": {},
   "outputs": [],
   "source": [
    "#x1w1x2w2._backward()"
   ]
  },
  {
   "cell_type": "code",
   "execution_count": 20,
   "metadata": {},
   "outputs": [],
   "source": [
    "# x2w2._backward()\n",
    "# x1w1._backward()"
   ]
  },
  {
   "cell_type": "code",
   "execution_count": 21,
   "metadata": {},
   "outputs": [
    {
     "data": {
      "image/svg+xml": [
       "<?xml version=\"1.0\" encoding=\"UTF-8\" standalone=\"no\"?>\n",
       "<!DOCTYPE svg PUBLIC \"-//W3C//DTD SVG 1.1//EN\"\n",
       " \"http://www.w3.org/Graphics/SVG/1.1/DTD/svg11.dtd\">\n",
       "<!-- Generated by graphviz version 6.0.1 (0)\n",
       " -->\n",
       "<!-- Pages: 1 -->\n",
       "<svg width=\"952pt\" height=\"342pt\"\n",
       " viewBox=\"0.00 0.00 952.00 342.00\" xmlns=\"http://www.w3.org/2000/svg\" xmlns:xlink=\"http://www.w3.org/1999/xlink\">\n",
       "<g id=\"graph0\" class=\"graph\" transform=\"scale(1 1) rotate(0) translate(4 338)\">\n",
       "<polygon fill=\"white\" stroke=\"none\" points=\"-4,4 -4,-338 948,-338 948,4 -4,4\"/>\n",
       "<!-- 140119693895696 -->\n",
       "<g id=\"node1\" class=\"node\">\n",
       "<title>140119693895696</title>\n",
       "<polygon fill=\"none\" stroke=\"black\" points=\"648,-88.5 648,-157.5 733,-157.5 733,-88.5 648,-88.5\"/>\n",
       "<text text-anchor=\"middle\" x=\"690.5\" y=\"-142.3\" font-family=\"Times,serif\" font-size=\"14.00\">x1*w1</text>\n",
       "<polyline fill=\"none\" stroke=\"black\" points=\"648,-134.5 733,-134.5\"/>\n",
       "<text text-anchor=\"middle\" x=\"690.5\" y=\"-119.3\" font-family=\"Times,serif\" font-size=\"14.00\">data &#45;6.0000</text>\n",
       "<polyline fill=\"none\" stroke=\"black\" points=\"648,-111.5 733,-111.5\"/>\n",
       "<text text-anchor=\"middle\" x=\"690.5\" y=\"-96.3\" font-family=\"Times,serif\" font-size=\"14.00\">grad 0.0000</text>\n",
       "</g>\n",
       "<!-- 140119693896528+ -->\n",
       "<g id=\"node13\" class=\"node\">\n",
       "<title>140119693896528+</title>\n",
       "<ellipse fill=\"none\" stroke=\"black\" cx=\"585\" cy=\"-167\" rx=\"27\" ry=\"18\"/>\n",
       "<text text-anchor=\"middle\" x=\"585\" y=\"-163.3\" font-family=\"Times,serif\" font-size=\"14.00\">+</text>\n",
       "</g>\n",
       "<!-- 140119693895696&#45;&gt;140119693896528+ -->\n",
       "<g id=\"edge6\" class=\"edge\">\n",
       "<title>140119693895696&#45;&gt;140119693896528+</title>\n",
       "<path fill=\"none\" stroke=\"black\" d=\"M648,-140.64C637.79,-144.98 627.03,-149.56 617.39,-153.66\"/>\n",
       "<polygon fill=\"black\" stroke=\"black\" points=\"616.02,-150.44 608.19,-157.57 618.76,-156.88 616.02,-150.44\"/>\n",
       "</g>\n",
       "<!-- 140119693895696* -->\n",
       "<g id=\"node2\" class=\"node\">\n",
       "<title>140119693895696*</title>\n",
       "<ellipse fill=\"none\" stroke=\"black\" cx=\"796\" cy=\"-123\" rx=\"27\" ry=\"18\"/>\n",
       "<text text-anchor=\"middle\" x=\"796\" y=\"-119.3\" font-family=\"Times,serif\" font-size=\"14.00\">*</text>\n",
       "</g>\n",
       "<!-- 140119693895696*&#45;&gt;140119693895696 -->\n",
       "<g id=\"edge1\" class=\"edge\">\n",
       "<title>140119693895696*&#45;&gt;140119693895696</title>\n",
       "<path fill=\"none\" stroke=\"black\" d=\"M768.88,-123C761.13,-123 752.36,-123 743.58,-123\"/>\n",
       "<polygon fill=\"black\" stroke=\"black\" points=\"743.32,-119.5 733.32,-123 743.32,-126.5 743.32,-119.5\"/>\n",
       "</g>\n",
       "<!-- 140119693896784 -->\n",
       "<g id=\"node3\" class=\"node\">\n",
       "<title>140119693896784</title>\n",
       "<polygon fill=\"none\" stroke=\"black\" points=\"208,-176.5 208,-245.5 290,-245.5 290,-176.5 208,-176.5\"/>\n",
       "<text text-anchor=\"middle\" x=\"249\" y=\"-230.3\" font-family=\"Times,serif\" font-size=\"14.00\">n</text>\n",
       "<polyline fill=\"none\" stroke=\"black\" points=\"208,-222.5 290,-222.5\"/>\n",
       "<text text-anchor=\"middle\" x=\"249\" y=\"-207.3\" font-family=\"Times,serif\" font-size=\"14.00\">data 0.8814</text>\n",
       "<polyline fill=\"none\" stroke=\"black\" points=\"208,-199.5 290,-199.5\"/>\n",
       "<text text-anchor=\"middle\" x=\"249\" y=\"-184.3\" font-family=\"Times,serif\" font-size=\"14.00\">grad 0.5000</text>\n",
       "</g>\n",
       "<!-- 140119693897040tanh -->\n",
       "<g id=\"node11\" class=\"node\">\n",
       "<title>140119693897040tanh</title>\n",
       "<ellipse fill=\"none\" stroke=\"black\" cx=\"145\" cy=\"-211\" rx=\"27\" ry=\"18\"/>\n",
       "<text text-anchor=\"middle\" x=\"145\" y=\"-207.3\" font-family=\"Times,serif\" font-size=\"14.00\">tanh</text>\n",
       "</g>\n",
       "<!-- 140119693896784&#45;&gt;140119693897040tanh -->\n",
       "<g id=\"edge12\" class=\"edge\">\n",
       "<title>140119693896784&#45;&gt;140119693897040tanh</title>\n",
       "<path fill=\"none\" stroke=\"black\" d=\"M207.98,-211C199.5,-211 190.6,-211 182.27,-211\"/>\n",
       "<polygon fill=\"black\" stroke=\"black\" points=\"182.11,-207.5 172.11,-211 182.11,-214.5 182.11,-207.5\"/>\n",
       "</g>\n",
       "<!-- 140119693896784+ -->\n",
       "<g id=\"node4\" class=\"node\">\n",
       "<title>140119693896784+</title>\n",
       "<ellipse fill=\"none\" stroke=\"black\" cx=\"353\" cy=\"-211\" rx=\"27\" ry=\"18\"/>\n",
       "<text text-anchor=\"middle\" x=\"353\" y=\"-207.3\" font-family=\"Times,serif\" font-size=\"14.00\">+</text>\n",
       "</g>\n",
       "<!-- 140119693896784+&#45;&gt;140119693896784 -->\n",
       "<g id=\"edge2\" class=\"edge\">\n",
       "<title>140119693896784+&#45;&gt;140119693896784</title>\n",
       "<path fill=\"none\" stroke=\"black\" d=\"M326,-211C318.19,-211 309.35,-211 300.52,-211\"/>\n",
       "<polygon fill=\"black\" stroke=\"black\" points=\"300.24,-207.5 290.24,-211 300.24,-214.5 300.24,-207.5\"/>\n",
       "</g>\n",
       "<!-- 140119693896272 -->\n",
       "<g id=\"node5\" class=\"node\">\n",
       "<title>140119693896272</title>\n",
       "<polygon fill=\"none\" stroke=\"black\" points=\"649.5,-176.5 649.5,-245.5 731.5,-245.5 731.5,-176.5 649.5,-176.5\"/>\n",
       "<text text-anchor=\"middle\" x=\"690.5\" y=\"-230.3\" font-family=\"Times,serif\" font-size=\"14.00\">x2*w2</text>\n",
       "<polyline fill=\"none\" stroke=\"black\" points=\"649.5,-222.5 731.5,-222.5\"/>\n",
       "<text text-anchor=\"middle\" x=\"690.5\" y=\"-207.3\" font-family=\"Times,serif\" font-size=\"14.00\">data 0.0000</text>\n",
       "<polyline fill=\"none\" stroke=\"black\" points=\"649.5,-199.5 731.5,-199.5\"/>\n",
       "<text text-anchor=\"middle\" x=\"690.5\" y=\"-184.3\" font-family=\"Times,serif\" font-size=\"14.00\">grad 0.0000</text>\n",
       "</g>\n",
       "<!-- 140119693896272&#45;&gt;140119693896528+ -->\n",
       "<g id=\"edge14\" class=\"edge\">\n",
       "<title>140119693896272&#45;&gt;140119693896528+</title>\n",
       "<path fill=\"none\" stroke=\"black\" d=\"M649.48,-193.99C638.88,-189.48 627.58,-184.68 617.5,-180.39\"/>\n",
       "<polygon fill=\"black\" stroke=\"black\" points=\"618.84,-177.16 608.27,-176.47 616.1,-183.6 618.84,-177.16\"/>\n",
       "</g>\n",
       "<!-- 140119693896272* -->\n",
       "<g id=\"node6\" class=\"node\">\n",
       "<title>140119693896272*</title>\n",
       "<ellipse fill=\"none\" stroke=\"black\" cx=\"796\" cy=\"-211\" rx=\"27\" ry=\"18\"/>\n",
       "<text text-anchor=\"middle\" x=\"796\" y=\"-207.3\" font-family=\"Times,serif\" font-size=\"14.00\">*</text>\n",
       "</g>\n",
       "<!-- 140119693896272*&#45;&gt;140119693896272 -->\n",
       "<g id=\"edge3\" class=\"edge\">\n",
       "<title>140119693896272*&#45;&gt;140119693896272</title>\n",
       "<path fill=\"none\" stroke=\"black\" d=\"M768.88,-211C760.61,-211 751.18,-211 741.81,-211\"/>\n",
       "<polygon fill=\"black\" stroke=\"black\" points=\"741.72,-207.5 731.72,-211 741.72,-214.5 741.72,-207.5\"/>\n",
       "</g>\n",
       "<!-- 140119693895760 -->\n",
       "<g id=\"node7\" class=\"node\">\n",
       "<title>140119693895760</title>\n",
       "<polygon fill=\"none\" stroke=\"black\" points=\"860.5,-264.5 860.5,-333.5 942.5,-333.5 942.5,-264.5 860.5,-264.5\"/>\n",
       "<text text-anchor=\"middle\" x=\"901.5\" y=\"-318.3\" font-family=\"Times,serif\" font-size=\"14.00\">w2</text>\n",
       "<polyline fill=\"none\" stroke=\"black\" points=\"860.5,-310.5 942.5,-310.5\"/>\n",
       "<text text-anchor=\"middle\" x=\"901.5\" y=\"-295.3\" font-family=\"Times,serif\" font-size=\"14.00\">data 1.0000</text>\n",
       "<polyline fill=\"none\" stroke=\"black\" points=\"860.5,-287.5 942.5,-287.5\"/>\n",
       "<text text-anchor=\"middle\" x=\"901.5\" y=\"-272.3\" font-family=\"Times,serif\" font-size=\"14.00\">grad 0.0000</text>\n",
       "</g>\n",
       "<!-- 140119693895760&#45;&gt;140119693896272* -->\n",
       "<g id=\"edge8\" class=\"edge\">\n",
       "<title>140119693895760&#45;&gt;140119693896272*</title>\n",
       "<path fill=\"none\" stroke=\"black\" d=\"M860.48,-264.98C847.17,-253.66 832.77,-241.41 821.05,-231.45\"/>\n",
       "<polygon fill=\"black\" stroke=\"black\" points=\"823.3,-228.77 813.41,-224.96 818.77,-234.1 823.3,-228.77\"/>\n",
       "</g>\n",
       "<!-- 140119693895888 -->\n",
       "<g id=\"node8\" class=\"node\">\n",
       "<title>140119693895888</title>\n",
       "<polygon fill=\"none\" stroke=\"black\" points=\"428,-220.5 428,-289.5 510,-289.5 510,-220.5 428,-220.5\"/>\n",
       "<text text-anchor=\"middle\" x=\"469\" y=\"-274.3\" font-family=\"Times,serif\" font-size=\"14.00\">b</text>\n",
       "<polyline fill=\"none\" stroke=\"black\" points=\"428,-266.5 510,-266.5\"/>\n",
       "<text text-anchor=\"middle\" x=\"469\" y=\"-251.3\" font-family=\"Times,serif\" font-size=\"14.00\">data 6.8814</text>\n",
       "<polyline fill=\"none\" stroke=\"black\" points=\"428,-243.5 510,-243.5\"/>\n",
       "<text text-anchor=\"middle\" x=\"469\" y=\"-228.3\" font-family=\"Times,serif\" font-size=\"14.00\">grad 0.0000</text>\n",
       "</g>\n",
       "<!-- 140119693895888&#45;&gt;140119693896784+ -->\n",
       "<g id=\"edge10\" class=\"edge\">\n",
       "<title>140119693895888&#45;&gt;140119693896784+</title>\n",
       "<path fill=\"none\" stroke=\"black\" d=\"M427.81,-239.49C414.22,-234.24 399.23,-228.46 386.33,-223.48\"/>\n",
       "<polygon fill=\"black\" stroke=\"black\" points=\"387.52,-220.19 376.93,-219.85 385,-226.72 387.52,-220.19\"/>\n",
       "</g>\n",
       "<!-- 140119693895440 -->\n",
       "<g id=\"node9\" class=\"node\">\n",
       "<title>140119693895440</title>\n",
       "<polygon fill=\"none\" stroke=\"black\" points=\"860.5,-176.5 860.5,-245.5 942.5,-245.5 942.5,-176.5 860.5,-176.5\"/>\n",
       "<text text-anchor=\"middle\" x=\"901.5\" y=\"-230.3\" font-family=\"Times,serif\" font-size=\"14.00\">x2</text>\n",
       "<polyline fill=\"none\" stroke=\"black\" points=\"860.5,-222.5 942.5,-222.5\"/>\n",
       "<text text-anchor=\"middle\" x=\"901.5\" y=\"-207.3\" font-family=\"Times,serif\" font-size=\"14.00\">data 0.0000</text>\n",
       "<polyline fill=\"none\" stroke=\"black\" points=\"860.5,-199.5 942.5,-199.5\"/>\n",
       "<text text-anchor=\"middle\" x=\"901.5\" y=\"-184.3\" font-family=\"Times,serif\" font-size=\"14.00\">grad 0.0000</text>\n",
       "</g>\n",
       "<!-- 140119693895440&#45;&gt;140119693896272* -->\n",
       "<g id=\"edge7\" class=\"edge\">\n",
       "<title>140119693895440&#45;&gt;140119693896272*</title>\n",
       "<path fill=\"none\" stroke=\"black\" d=\"M860.48,-211C851.59,-211 842.2,-211 833.46,-211\"/>\n",
       "<polygon fill=\"black\" stroke=\"black\" points=\"833.18,-207.5 823.18,-211 833.18,-214.5 833.18,-207.5\"/>\n",
       "</g>\n",
       "<!-- 140119693897040 -->\n",
       "<g id=\"node10\" class=\"node\">\n",
       "<title>140119693897040</title>\n",
       "<polygon fill=\"none\" stroke=\"black\" points=\"0,-176.5 0,-245.5 82,-245.5 82,-176.5 0,-176.5\"/>\n",
       "<text text-anchor=\"middle\" x=\"41\" y=\"-230.3\" font-family=\"Times,serif\" font-size=\"14.00\">o</text>\n",
       "<polyline fill=\"none\" stroke=\"black\" points=\"0,-222.5 82,-222.5\"/>\n",
       "<text text-anchor=\"middle\" x=\"41\" y=\"-207.3\" font-family=\"Times,serif\" font-size=\"14.00\">data 0.7071</text>\n",
       "<polyline fill=\"none\" stroke=\"black\" points=\"0,-199.5 82,-199.5\"/>\n",
       "<text text-anchor=\"middle\" x=\"41\" y=\"-184.3\" font-family=\"Times,serif\" font-size=\"14.00\">grad 1.0000</text>\n",
       "</g>\n",
       "<!-- 140119693897040tanh&#45;&gt;140119693897040 -->\n",
       "<g id=\"edge4\" class=\"edge\">\n",
       "<title>140119693897040tanh&#45;&gt;140119693897040</title>\n",
       "<path fill=\"none\" stroke=\"black\" d=\"M118,-211C110.19,-211 101.35,-211 92.52,-211\"/>\n",
       "<polygon fill=\"black\" stroke=\"black\" points=\"92.24,-207.5 82.24,-211 92.24,-214.5 92.24,-207.5\"/>\n",
       "</g>\n",
       "<!-- 140119693896528 -->\n",
       "<g id=\"node12\" class=\"node\">\n",
       "<title>140119693896528</title>\n",
       "<polygon fill=\"none\" stroke=\"black\" points=\"416,-132.5 416,-201.5 522,-201.5 522,-132.5 416,-132.5\"/>\n",
       "<text text-anchor=\"middle\" x=\"469\" y=\"-186.3\" font-family=\"Times,serif\" font-size=\"14.00\">x1*w1 + x2*w2</text>\n",
       "<polyline fill=\"none\" stroke=\"black\" points=\"416,-178.5 522,-178.5\"/>\n",
       "<text text-anchor=\"middle\" x=\"469\" y=\"-163.3\" font-family=\"Times,serif\" font-size=\"14.00\">data &#45;6.0000</text>\n",
       "<polyline fill=\"none\" stroke=\"black\" points=\"416,-155.5 522,-155.5\"/>\n",
       "<text text-anchor=\"middle\" x=\"469\" y=\"-140.3\" font-family=\"Times,serif\" font-size=\"14.00\">grad 0.0000</text>\n",
       "</g>\n",
       "<!-- 140119693896528&#45;&gt;140119693896784+ -->\n",
       "<g id=\"edge11\" class=\"edge\">\n",
       "<title>140119693896528&#45;&gt;140119693896784+</title>\n",
       "<path fill=\"none\" stroke=\"black\" d=\"M415.67,-187.2C405.61,-191.08 395.36,-195.04 386.17,-198.58\"/>\n",
       "<polygon fill=\"black\" stroke=\"black\" points=\"384.76,-195.38 376.69,-202.24 387.28,-201.91 384.76,-195.38\"/>\n",
       "</g>\n",
       "<!-- 140119693896528+&#45;&gt;140119693896528 -->\n",
       "<g id=\"edge5\" class=\"edge\">\n",
       "<title>140119693896528+&#45;&gt;140119693896528</title>\n",
       "<path fill=\"none\" stroke=\"black\" d=\"M557.85,-167C550.11,-167 541.29,-167 532.29,-167\"/>\n",
       "<polygon fill=\"black\" stroke=\"black\" points=\"532.1,-163.5 522.1,-167 532.1,-170.5 532.1,-163.5\"/>\n",
       "</g>\n",
       "<!-- 140119693895504 -->\n",
       "<g id=\"node14\" class=\"node\">\n",
       "<title>140119693895504</title>\n",
       "<polygon fill=\"none\" stroke=\"black\" points=\"860.5,-88.5 860.5,-157.5 942.5,-157.5 942.5,-88.5 860.5,-88.5\"/>\n",
       "<text text-anchor=\"middle\" x=\"901.5\" y=\"-142.3\" font-family=\"Times,serif\" font-size=\"14.00\">x1</text>\n",
       "<polyline fill=\"none\" stroke=\"black\" points=\"860.5,-134.5 942.5,-134.5\"/>\n",
       "<text text-anchor=\"middle\" x=\"901.5\" y=\"-119.3\" font-family=\"Times,serif\" font-size=\"14.00\">data 2.0000</text>\n",
       "<polyline fill=\"none\" stroke=\"black\" points=\"860.5,-111.5 942.5,-111.5\"/>\n",
       "<text text-anchor=\"middle\" x=\"901.5\" y=\"-96.3\" font-family=\"Times,serif\" font-size=\"14.00\">grad 0.0000</text>\n",
       "</g>\n",
       "<!-- 140119693895504&#45;&gt;140119693895696* -->\n",
       "<g id=\"edge9\" class=\"edge\">\n",
       "<title>140119693895504&#45;&gt;140119693895696*</title>\n",
       "<path fill=\"none\" stroke=\"black\" d=\"M860.48,-123C851.59,-123 842.2,-123 833.46,-123\"/>\n",
       "<polygon fill=\"black\" stroke=\"black\" points=\"833.18,-119.5 823.18,-123 833.18,-126.5 833.18,-119.5\"/>\n",
       "</g>\n",
       "<!-- 140119693895568 -->\n",
       "<g id=\"node15\" class=\"node\">\n",
       "<title>140119693895568</title>\n",
       "<polygon fill=\"none\" stroke=\"black\" points=\"859,-0.5 859,-69.5 944,-69.5 944,-0.5 859,-0.5\"/>\n",
       "<text text-anchor=\"middle\" x=\"901.5\" y=\"-54.3\" font-family=\"Times,serif\" font-size=\"14.00\">w1</text>\n",
       "<polyline fill=\"none\" stroke=\"black\" points=\"859,-46.5 944,-46.5\"/>\n",
       "<text text-anchor=\"middle\" x=\"901.5\" y=\"-31.3\" font-family=\"Times,serif\" font-size=\"14.00\">data &#45;3.0000</text>\n",
       "<polyline fill=\"none\" stroke=\"black\" points=\"859,-23.5 944,-23.5\"/>\n",
       "<text text-anchor=\"middle\" x=\"901.5\" y=\"-8.3\" font-family=\"Times,serif\" font-size=\"14.00\">grad 0.0000</text>\n",
       "</g>\n",
       "<!-- 140119693895568&#45;&gt;140119693895696* -->\n",
       "<g id=\"edge13\" class=\"edge\">\n",
       "<title>140119693895568&#45;&gt;140119693895696*</title>\n",
       "<path fill=\"none\" stroke=\"black\" d=\"M859.89,-69.53C846.86,-80.61 832.83,-92.53 821.34,-102.3\"/>\n",
       "<polygon fill=\"black\" stroke=\"black\" points=\"818.83,-99.85 813.48,-108.99 823.36,-105.18 818.83,-99.85\"/>\n",
       "</g>\n",
       "</g>\n",
       "</svg>\n"
      ],
      "text/plain": [
       "<graphviz.graphs.Digraph at 0x7f7028946590>"
      ]
     },
     "execution_count": 21,
     "metadata": {},
     "output_type": "execute_result"
    }
   ],
   "source": [
    "draw_dot(o)"
   ]
  },
  {
   "cell_type": "code",
   "execution_count": null,
   "metadata": {},
   "outputs": [],
   "source": []
  },
  {
   "cell_type": "code",
   "execution_count": null,
   "metadata": {},
   "outputs": [],
   "source": []
  }
 ],
 "metadata": {
  "kernelspec": {
   "display_name": "Python 3 (ipykernel)",
   "language": "python",
   "name": "python3"
  },
  "language_info": {
   "codemirror_mode": {
    "name": "ipython",
    "version": 3
   },
   "file_extension": ".py",
   "mimetype": "text/x-python",
   "name": "python",
   "nbconvert_exporter": "python",
   "pygments_lexer": "ipython3",
   "version": "3.7.14"
  }
 },
 "nbformat": 4,
 "nbformat_minor": 2
}
